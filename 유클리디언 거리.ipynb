{
 "cells": [
  {
   "cell_type": "code",
   "execution_count": 1,
   "id": "d9b94af3",
   "metadata": {},
   "outputs": [],
   "source": [
    "import math\n",
    "import pandas as pd\n",
    "import numpy as np"
   ]
  },
  {
   "cell_type": "code",
   "execution_count": 2,
   "id": "4f7d551d",
   "metadata": {},
   "outputs": [],
   "source": [
    "# 유클리드 거리 공식\n",
    "def ed(x1, x2):\n",
    "    distance = 0\n",
    "    for i in range(len(x1)):\n",
    "        distance += (x1[i] - x2[i]) ** 2\n",
    "    return math.sqrt(float(distance))"
   ]
  },
  {
   "cell_type": "code",
   "execution_count": 3,
   "id": "0a05c327",
   "metadata": {},
   "outputs": [
    {
     "data": {
      "text/html": [
       "<div>\n",
       "<style scoped>\n",
       "    .dataframe tbody tr th:only-of-type {\n",
       "        vertical-align: middle;\n",
       "    }\n",
       "\n",
       "    .dataframe tbody tr th {\n",
       "        vertical-align: top;\n",
       "    }\n",
       "\n",
       "    .dataframe thead th {\n",
       "        text-align: right;\n",
       "    }\n",
       "</style>\n",
       "<table border=\"1\" class=\"dataframe\">\n",
       "  <thead>\n",
       "    <tr style=\"text-align: right;\">\n",
       "      <th></th>\n",
       "      <th>Unnamed: 0</th>\n",
       "      <th>R</th>\n",
       "      <th>G</th>\n",
       "      <th>B</th>\n",
       "    </tr>\n",
       "  </thead>\n",
       "  <tbody>\n",
       "    <tr>\n",
       "      <th>0</th>\n",
       "      <td>./lfw_funneled\\Aaron_Eckhart\\Aaron_Eckhart_000...</td>\n",
       "      <td>202</td>\n",
       "      <td>24</td>\n",
       "      <td>24</td>\n",
       "    </tr>\n",
       "    <tr>\n",
       "      <th>1</th>\n",
       "      <td>./lfw_funneled\\Aaron_Eckhart\\testfold\\123.jpg</td>\n",
       "      <td>190</td>\n",
       "      <td>33</td>\n",
       "      <td>26</td>\n",
       "    </tr>\n",
       "    <tr>\n",
       "      <th>2</th>\n",
       "      <td>./lfw_funneled\\Aaron_Eckhart\\testfold\\face1.jpg</td>\n",
       "      <td>242</td>\n",
       "      <td>211</td>\n",
       "      <td>206</td>\n",
       "    </tr>\n",
       "    <tr>\n",
       "      <th>3</th>\n",
       "      <td>./lfw_funneled\\Aaron_Eckhart\\testfold\\face2.jpg</td>\n",
       "      <td>242</td>\n",
       "      <td>211</td>\n",
       "      <td>206</td>\n",
       "    </tr>\n",
       "    <tr>\n",
       "      <th>4</th>\n",
       "      <td>./lfw_funneled\\Aaron_Eckhart\\testfold\\realtest...</td>\n",
       "      <td>204</td>\n",
       "      <td>26</td>\n",
       "      <td>22</td>\n",
       "    </tr>\n",
       "  </tbody>\n",
       "</table>\n",
       "</div>"
      ],
      "text/plain": [
       "                                          Unnamed: 0    R    G    B\n",
       "0  ./lfw_funneled\\Aaron_Eckhart\\Aaron_Eckhart_000...  202   24   24\n",
       "1      ./lfw_funneled\\Aaron_Eckhart\\testfold\\123.jpg  190   33   26\n",
       "2    ./lfw_funneled\\Aaron_Eckhart\\testfold\\face1.jpg  242  211  206\n",
       "3    ./lfw_funneled\\Aaron_Eckhart\\testfold\\face2.jpg  242  211  206\n",
       "4  ./lfw_funneled\\Aaron_Eckhart\\testfold\\realtest...  204   26   22"
      ]
     },
     "execution_count": 3,
     "metadata": {},
     "output_type": "execute_result"
    }
   ],
   "source": [
    "data = pd.read_csv('df1.csv')\n",
    "data.head()"
   ]
  },
  {
   "cell_type": "code",
   "execution_count": 4,
   "id": "ef89178a",
   "metadata": {},
   "outputs": [
    {
     "name": "stdout",
     "output_type": "stream",
     "text": [
      "228.9672465659663\n",
      "256.6398254363496\n"
     ]
    }
   ],
   "source": [
    "# 데이터와 쿨톤, 웜톤 RGB 비교\n",
    "# 0번 Aaron\n",
    "# 쿨톤\n",
    "print(ed([202, 24, 24], [178, 183, 187]))\n",
    "# 웜톤\n",
    "print(ed([202, 24, 24], [240, 216, 190]))"
   ]
  },
  {
   "cell_type": "code",
   "execution_count": 5,
   "id": "f2610b53",
   "metadata": {},
   "outputs": [
    {
     "name": "stdout",
     "output_type": "stream",
     "text": [
      "220.3746809413459\n",
      "250.76881783826315\n"
     ]
    }
   ],
   "source": [
    "# 1번 Aaron\n",
    "# 쿨톤\n",
    "print(ed([190, 33, 26], [178, 183, 187]))\n",
    "# 웜톤\n",
    "print(ed([190, 33, 26], [240, 216, 190]))"
   ]
  },
  {
   "cell_type": "code",
   "execution_count": 6,
   "id": "6d03acff",
   "metadata": {},
   "outputs": [
    {
     "name": "stdout",
     "output_type": "stream",
     "text": [
      "72.39475119095306\n",
      "16.881943016134134\n"
     ]
    }
   ],
   "source": [
    "# 2번 Aaron\n",
    "# 쿨톤\n",
    "print(ed([242, 211, 206], [178, 183, 187]))\n",
    "# 웜톤\n",
    "print(ed([242, 211, 206], [240, 216, 190]))"
   ]
  },
  {
   "cell_type": "code",
   "execution_count": 7,
   "id": "4cde7380",
   "metadata": {},
   "outputs": [
    {
     "name": "stdout",
     "output_type": "stream",
     "text": [
      "229.237867726953\n",
      "256.1640099623677\n"
     ]
    }
   ],
   "source": [
    "# 4번 Aaron\n",
    "# 쿨톤\n",
    "print(ed([204, 26, 22], [178, 183, 187]))\n",
    "# 웜톤\n",
    "print(ed([204, 26, 22], [240, 216, 190]))"
   ]
  },
  {
   "cell_type": "code",
   "execution_count": null,
   "id": "de50793a",
   "metadata": {},
   "outputs": [],
   "source": []
  }
 ],
 "metadata": {
  "kernelspec": {
   "display_name": "Python 3",
   "language": "python",
   "name": "python3"
  },
  "language_info": {
   "codemirror_mode": {
    "name": "ipython",
    "version": 3
   },
   "file_extension": ".py",
   "mimetype": "text/x-python",
   "name": "python",
   "nbconvert_exporter": "python",
   "pygments_lexer": "ipython3",
   "version": "3.8.8"
  }
 },
 "nbformat": 4,
 "nbformat_minor": 5
}
